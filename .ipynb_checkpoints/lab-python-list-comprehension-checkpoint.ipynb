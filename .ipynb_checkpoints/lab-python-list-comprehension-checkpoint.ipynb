{
 "cells": [
  {
   "cell_type": "markdown",
   "id": "25d7736c-ba17-4aff-b6bb-66eba20fbf4e",
   "metadata": {},
   "source": [
    "# Lab | List, Dict and Set Comprehension"
   ]
  },
  {
   "cell_type": "markdown",
   "id": "7dd3cbde-675a-4b81-92c3-f728846dbe06",
   "metadata": {},
   "source": [
    "## Exercise: Managing Customer Orders Optimized with Comprehension"
   ]
  },
  {
   "cell_type": "markdown",
   "id": "5d500160-2fb7-4777-b5e4-09d45ebaf328",
   "metadata": {},
   "source": [
    "In the previous exercise, you developed a program to manage customer orders and inventory. Now, let's take it a step further and incorporate comprehension into your code.\n",
    "\n",
    "Follow the steps below to complete the exercise:\n",
    "\n",
    "1. Review your code from the previous exercise and identify areas where you can apply comprehension to simplify and streamline your code. \n",
    "\n",
    "    - *Hint: Apply it to initialize inventory, updating the inventory and printing the updated inventory.*\n",
    "    \n",
    "    - For example, in initializing the inventory, we could have:\n",
    "    \n",
    "        ```python\n",
    "        def initialize_inventory(products):\n",
    "            inventory = {product: int(input(f\"Enter the quantity of {product}s available: \")) for product in products}\n",
    "            return inventory\n",
    "\n",
    "        ```\n",
    "<br>\n",
    "    \n",
    "    \n",
    "2. Modify the function get_customer_orders so it prompts the user to enter the number of customer orders and gathers the product names using a loop and user input. Use comprehension.\n",
    "\n",
    "3. Add a new function to calculate the total price of the customer order. For each product in customer_orders, prompt the user to enter the price of that product. Use comprehension to calculate the total price. Note: assume that the user can only have 1 unit of each product.\n",
    "\n",
    "4. Modify the update_inventory function to remove the product from the inventory if its quantity becomes zero after fulfilling the customer orders. Use comprehension to filter out the products with a quantity of zero from the inventory.\n",
    "\n",
    "5. Print the total price of the customer order.\n",
    "\n",
    "Your code should produce output similar to the following:\n",
    "\n",
    "```python\n",
    "Enter the quantity of t-shirts available:  5\n",
    "Enter the quantity of mugs available:  4\n",
    "Enter the quantity of hats available:  3\n",
    "Enter the quantity of books available:  2\n",
    "Enter the quantity of keychains available:  1\n",
    "Enter the number of customer orders:  2\n",
    "Enter the name of a product that a customer wants to order:  hat\n",
    "Enter the name of a product that a customer wants to order:  keychain\n",
    "\n",
    "Order Statistics:\n",
    "Total Products Ordered: 2\n",
    "Percentage of Unique Products Ordered: 40.0\n",
    "\n",
    "Updated Inventory:\n",
    "t-shirt: 5\n",
    "mug: 4\n",
    "hat: 2\n",
    "book: 2\n",
    "Enter the price of keychain:  5\n",
    "Enter the price of hat:  10\n",
    "Total Price: 15.0\n",
    "\n",
    "```\n"
   ]
  },
  {
   "cell_type": "code",
   "execution_count": 90,
   "id": "72d4941e-082c-4177-98c0-f3db0df16db9",
   "metadata": {},
   "outputs": [],
   "source": [
    "products = [\"t-shirt\", \"mug\", \"hat\", \"book\", \"keychain\"]\n",
    "customer_orders = set()"
   ]
  },
  {
   "cell_type": "code",
   "execution_count": 91,
   "id": "8cf5612d-2219-4759-baf0-faa9490db253",
   "metadata": {},
   "outputs": [],
   "source": [
    "def initialize_inventory(products):\n",
    "    returnInventory = {product:(int(input(\"Enter the quantity of \"+product))) for product in products}\n",
    "    return returnInventory\n",
    "\n",
    "#new_dict = {key_expression: value_expression for item in iterable}"
   ]
  },
  {
   "cell_type": "markdown",
   "id": "f7a232b3-0070-4f82-8b8a-847e688e350b",
   "metadata": {},
   "source": [
    "x = \"5\"\n",
    "y = 5\n",
    "\n",
    "#x.isdigit()\n",
    "#y.isdigit()\n",
    "\n",
    "str(y).isdigit()"
   ]
  },
  {
   "cell_type": "markdown",
   "id": "c935c06a-8d19-4e66-ac74-330d782c27f8",
   "metadata": {},
   "source": [
    "z = range(6)\n",
    "for n in range(6):\n",
    "  print(n)"
   ]
  },
  {
   "cell_type": "code",
   "execution_count": 112,
   "id": "ad6dbd42-497d-4db6-b827-c26a1516be05",
   "metadata": {},
   "outputs": [
    {
     "data": {
      "text/plain": [
       "'Modify the function get_customer_orders so it prompts the user to enter the number of customer orders \\nand gathers the product names using a loop and user input. Use comprehension.'"
      ]
     },
     "execution_count": 112,
     "metadata": {},
     "output_type": "execute_result"
    }
   ],
   "source": [
    "def get_customer_orders():\n",
    "    amountOfOrders = int(input(\"Please declare how many items you would like to buy: \"))\n",
    "    while str(amountOfOrders).isdigit() == False:\n",
    "        input(\"Please declare how many items you would like to buy. Enter only digits.\")\n",
    "    if amountOfOrders >= 6:\n",
    "        amountOfOrders = 5\n",
    "    customer_orders = {input(\"Please enter the name of a product that you want to add.\").lower() for order in range(amountOfOrders)}\n",
    "    print(customer_orders)\n",
    "    return customer_orders\n",
    "\n",
    "#new_set = {expression for item in iterable}\n",
    "\n",
    "\n",
    "\"\"\"Modify the function get_customer_orders so it prompts the user to enter the number of customer orders \n",
    "and gathers the product names using a loop and user input. Use comprehension.\"\"\""
   ]
  },
  {
   "cell_type": "code",
   "execution_count": 129,
   "id": "e11a8898-2585-42fd-94d0-00f3f65371ce",
   "metadata": {},
   "outputs": [],
   "source": [
    "#def update_inventory(customer_orders, inventory):\n",
    "#    [inventory[c]-1 for c in inventory]\n",
    "#new_set = {expression for item in iterable}\n",
    "\n",
    "# i failed to do a comprehension here\n",
    "\n",
    "\n",
    "def update_inventory(customer_orders, inventory):\n",
    "    for c in customer_orders:\n",
    "        inventory[c] -= 1\n",
    "        if inventory[c] == 0:\n",
    "            del inventory[c]\n",
    "            "
   ]
  },
  {
   "cell_type": "markdown",
   "id": "07e318a0-1651-4330-ae32-bcfc86869b85",
   "metadata": {},
   "source": [
    "Modify the update_inventory function to remove the product from the inventory if its quantity becomes zero after fulfilling the customer orders. Use comprehension to filter out the products with a quantity of zero from the inventory."
   ]
  },
  {
   "cell_type": "code",
   "execution_count": 94,
   "id": "beb2367b-1ff3-495a-b078-043f039ca852",
   "metadata": {},
   "outputs": [],
   "source": [
    "def calculate_order_statistics(customer_orders, products):\n",
    "    totalProductsOrdered = len(customer_orders)\n",
    "    percentageUniqueProducts = totalProductsOrdered / len(products) * 100\n",
    "    return [totalProductsOrdered, percentageUniqueProducts]"
   ]
  },
  {
   "cell_type": "code",
   "execution_count": 95,
   "id": "ba4889b1-2bdc-4c16-b478-267c77b13646",
   "metadata": {},
   "outputs": [],
   "source": [
    "def print_order_statistics(order_statistics):\n",
    "    print(\"Order Statistics:\")\n",
    "    print(\"Total Products Ordered: \"+str(order_statistics[0]))\n",
    "    print(\"Percentage of Unique Products Ordered: \"+str(order_statistics[1])+\"%\")"
   ]
  },
  {
   "cell_type": "code",
   "execution_count": 96,
   "id": "90025a63-38d4-4456-9819-32db199755f1",
   "metadata": {},
   "outputs": [],
   "source": [
    "def print_updated_inventory(inventory):\n",
    "    print(\"Update Inventory:\")\n",
    "    for i,j in inventory.items():\n",
    "        print(f'{i}: {j} units in stock.')"
   ]
  },
  {
   "cell_type": "markdown",
   "id": "d376ec55-6632-401b-90f3-81084e255718",
   "metadata": {},
   "source": [
    "Add a new function to calculate the total price of the customer order. For each product in customer_orders, prompt the user to enter the price of that product. Use comprehension to calculate the total price. Note: assume that the user can only have 1 unit of each product."
   ]
  },
  {
   "cell_type": "code",
   "execution_count": 126,
   "id": "2c6054cb-c866-4086-bb90-84f1c429db1a",
   "metadata": {},
   "outputs": [],
   "source": [
    "def calculate_total_price(customer_orders):\n",
    "    totalPrice = 0\n",
    "    for i in customer_orders:\n",
    "        totalPrice += int(input(\"Enter the price of: \"+i))\n",
    "    print(\"Total Price of Order: \"+str(totalPrice))\n",
    "    return totalPrice"
   ]
  },
  {
   "cell_type": "code",
   "execution_count": 130,
   "id": "7b2c44b1-a3c3-4659-a150-70439137984b",
   "metadata": {},
   "outputs": [
    {
     "name": "stdin",
     "output_type": "stream",
     "text": [
      "Enter the quantity of t-shirt 1\n",
      "Enter the quantity of mug 2\n",
      "Enter the quantity of hat 3\n",
      "Enter the quantity of book 4\n",
      "Enter the quantity of keychain 5\n"
     ]
    },
    {
     "name": "stdout",
     "output_type": "stream",
     "text": [
      "{'t-shirt': 1, 'mug': 2, 'hat': 3, 'book': 4, 'keychain': 5}\n"
     ]
    },
    {
     "name": "stdin",
     "output_type": "stream",
     "text": [
      "Please declare how many items you would like to buy:  2\n",
      "Please enter the name of a product that you want to add. t-shirt\n",
      "Please enter the name of a product that you want to add. mug\n"
     ]
    },
    {
     "name": "stdout",
     "output_type": "stream",
     "text": [
      "Order Statistics:\n",
      "Total Products Ordered: 2\n",
      "Percentage of Unique Products Ordered: 40.0%\n",
      "Update Inventory:\n",
      "mug: 1 units in stock.\n",
      "hat: 3 units in stock.\n",
      "book: 4 units in stock.\n",
      "keychain: 5 units in stock.\n"
     ]
    },
    {
     "name": "stdin",
     "output_type": "stream",
     "text": [
      "Enter the price of: t-shirt 5\n",
      "Enter the price of: mug 15\n"
     ]
    },
    {
     "name": "stdout",
     "output_type": "stream",
     "text": [
      "Total Price of Order: 20\n"
     ]
    },
    {
     "data": {
      "text/plain": [
       "20"
      ]
     },
     "execution_count": 130,
     "metadata": {},
     "output_type": "execute_result"
    }
   ],
   "source": [
    "baseInventory = initialize_inventory(products)\n",
    "\n",
    "print(baseInventory)\n",
    "\n",
    "newOrder = get_customer_orders()\n",
    "\n",
    "#print(newOrder)\n",
    "\n",
    "update_inventory(newOrder, baseInventory)\n",
    "\n",
    "orderStats = calculate_order_statistics(newOrder, products)\n",
    "\n",
    "print_order_statistics(orderStats)\n",
    "\n",
    "print_updated_inventory(baseInventory)\n",
    "\n",
    "calculate_total_price(newOrder)"
   ]
  }
 ],
 "metadata": {
  "kernelspec": {
   "display_name": "Python 3 (ipykernel)",
   "language": "python",
   "name": "python3"
  },
  "language_info": {
   "codemirror_mode": {
    "name": "ipython",
    "version": 3
   },
   "file_extension": ".py",
   "mimetype": "text/x-python",
   "name": "python",
   "nbconvert_exporter": "python",
   "pygments_lexer": "ipython3",
   "version": "3.12.4"
  }
 },
 "nbformat": 4,
 "nbformat_minor": 5
}
